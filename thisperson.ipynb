{
 "cells": [
  {
   "cell_type": "code",
   "execution_count": 8,
   "metadata": {},
   "outputs": [],
   "source": [
    "import requests\n",
    "import sys\n",
    "import os\n",
    "\n",
    "from pathlib import Path\n"
   ]
  },
  {
   "cell_type": "code",
   "execution_count": 2,
   "metadata": {},
   "outputs": [],
   "source": [
    "def get_file(urltoget):\n",
    "    headers = {'User-Agent': 'Mozilla 5.0'}\n",
    "    response = requests.get(urltoget, headers=headers)\n",
    "    status = response.status_code\n",
    "    if status == 200:\n",
    "        image_data = response.content\n",
    "    else:\n",
    "        image_data = None\n",
    "        msg = 'Error {0} getting {1}'.format(status, urltoget)\n",
    "        print(msg)\n",
    "    return image_data\n"
   ]
  },
  {
   "cell_type": "code",
   "execution_count": 3,
   "metadata": {},
   "outputs": [],
   "source": [
    "def write_file(data, filetowrite):\n",
    "    f = open(filetowrite, 'w+b')\n",
    "    f.write(data)\n",
    "    f.close()\n",
    "    return"
   ]
  },
  {
   "cell_type": "code",
   "execution_count": 9,
   "metadata": {},
   "outputs": [],
   "source": [
    "def create_dir(dirtocreate):\n",
    "    dirobj = Path(dirtocreate)\n",
    "    if dirobj.is_dir():\n",
    "        #great!\n",
    "        print('Directory exists')\n",
    "    else:\n",
    "        os.mkdir(directory)\n",
    "        print('Created Directory')\n",
    "    return"
   ]
  },
  {
   "cell_type": "code",
   "execution_count": 10,
   "metadata": {},
   "outputs": [],
   "source": [
    "def filecheck(filetocheck):\n",
    "    filecheck = Path(filetocheck)\n",
    "    return filecheck.is_file()"
   ]
  },
  {
   "cell_type": "code",
   "execution_count": 13,
   "metadata": {},
   "outputs": [
    {
     "name": "stdout",
     "output_type": "stream",
     "text": [
      "Directory exists\n"
     ]
    }
   ],
   "source": [
    "site = 'https://thispersondoesnotexist.com'\n",
    "\n",
    "directory = './ThisPerson/'\n",
    "create_dir(directory)\n",
    "\n",
    "uri = '/image'\n"
   ]
  },
  {
   "cell_type": "code",
   "execution_count": 14,
   "metadata": {},
   "outputs": [
    {
     "name": "stdout",
     "output_type": "stream",
     "text": [
      "1\n",
      "2\n",
      "3\n",
      "4\n",
      "5\n",
      "6\n",
      "7\n",
      "8\n",
      "9\n",
      "10\n",
      "11\n",
      "12\n",
      "13\n",
      "14\n"
     ]
    }
   ],
   "source": [
    "for x in range(1, 15):\n",
    "    print(x)\n",
    "    page = site + uri\n",
    "    filename = '{}/{:0}.jpg'.format(directory, x)\n",
    "    #check for file first\n",
    "    if filecheck(filename) == False:\n",
    "        #file does not exist\n",
    "        data = None\n",
    "        #print('Getting {0}'.format(page))\n",
    "        data = get_file(page)\n",
    "        if data:\n",
    "            #print('Writing {0}'.format(filename))\n",
    "            write_file(data, filename)"
   ]
  },
  {
   "cell_type": "code",
   "execution_count": null,
   "metadata": {},
   "outputs": [],
   "source": []
  },
  {
   "cell_type": "code",
   "execution_count": null,
   "metadata": {},
   "outputs": [],
   "source": []
  }
 ],
 "metadata": {
  "kernelspec": {
   "display_name": "Python 3",
   "language": "python",
   "name": "python3"
  },
  "language_info": {
   "codemirror_mode": {
    "name": "ipython",
    "version": 3
   },
   "file_extension": ".py",
   "mimetype": "text/x-python",
   "name": "python",
   "nbconvert_exporter": "python",
   "pygments_lexer": "ipython3",
   "version": "3.7.1"
  }
 },
 "nbformat": 4,
 "nbformat_minor": 2
}
